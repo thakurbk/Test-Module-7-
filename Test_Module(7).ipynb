{
  "nbformat": 4,
  "nbformat_minor": 0,
  "metadata": {
    "colab": {
      "provenance": []
    },
    "kernelspec": {
      "name": "python3",
      "display_name": "Python 3"
    },
    "language_info": {
      "name": "python"
    }
  },
  "cells": [
    {
      "cell_type": "markdown",
      "source": [
        "**Theory Questions Solved**"
      ],
      "metadata": {
        "id": "iSSCU9m8oz7O"
      }
    },
    {
      "cell_type": "markdown",
      "source": [
        "- What is the difference between interpreted and compiled languages?\n",
        "-> Interpreted languages run code line by line (like Python), while compiled languages convert the whole code to machine language before running (like C++).\n",
        "\n",
        "\n",
        "- What is exception handling in Python?\n",
        "-> Exception handling means catching errors during code execution so that the program doesn’t crash.\n",
        "\n",
        "\n",
        "- What is the purpose of the finally block in exception handling?\n",
        "-> The finally block runs no matter what — whether there’s an error or not. It’s useful for cleanup tasks like closing files.\n",
        "\n",
        "- What is logging in Python?\n",
        "-> Logging means keeping records of events that happen during program execution. It helps track bugs and understand what's happening.\n",
        "\n",
        "- What is the significance of the __del__ method in Python?\n",
        "-> It’s a special method that runs when an object is deleted. You can use it to clean up resources like files or network connections.\n",
        "\n",
        "- What is the difference between import and from ... import in Python?\n",
        "-> import loads the whole module. from ... import lets you use only specific parts of it.\n",
        "\n",
        "- How can you handle multiple exceptions in Python?\n",
        "-? You can use several except blocks, each one for a different error type.\n",
        "\n",
        "- What is the purpose of the with statement when handling files in Python?\n",
        "-> It opens the file and automatically closes it after use — even if an error happens.\n",
        "\n",
        "- What is the difference between multithreading and multiprocessing?\n",
        "-> Multithreading runs tasks in the same memory space, good for light tasks. Multiprocessing runs tasks in separate processes, better for heavy work.\n",
        "\n",
        "- What are the advantages of using logging in a program?\n",
        "-> It helps track problems, understand behavior, and fix bugs more easily.\n",
        "\n",
        "- What is memory management in Python?\n",
        "-> It’s how Python handles the memory for storing data. It includes automatic cleanup (garbage collection).\n",
        "\n",
        "- What are the basic steps involved in exception handling in Python?\n",
        "-> Use try to run risky code, except to catch errors, else if no errors occur, and finally to clean up.\n",
        "\n",
        "- Why is memory management important in Python?\n",
        "-> It keeps programs efficient and prevents crashes due to memory overload.\n",
        "\n",
        "- What is the role of try and except in exception handling?\n",
        "-> try runs the code; if there's an error, except handles it.\n",
        "\n",
        "- How does Python's garbage collection system work?\n",
        "-> Python automatically removes data you don’t need anymore to free memory.\n",
        "\n",
        "- What is the purpose of the else block in exception handling?\n",
        "-> The else block runs only if there’s no error inside try.\n",
        "\n",
        "- What are the common logging levels in Python?\n",
        "-> DEBUG, INFO, WARNING, ERROR, and CRITICAL.\n",
        "\n",
        "- What is the difference between os.fork() and multiprocessing in Python?\n",
        "-> os.fork() is used mostly in Unix. multiprocessing works everywhere and is simpler for beginners.\n",
        "\n",
        "- What is the importance of closing a file in Python?\n",
        "-> It saves changes, frees memory, and avoids data loss.\n",
        "\n",
        "- What is the difference between file.read() and file.readline() in Python?\n",
        "-> read() gets everything at once. readline() gets one line at a time.\n",
        "\n",
        "- What is the logging module in Python used for?\n",
        "-> It’s used to record messages during code execution — errors, info, etc.\n",
        "\n",
        "- What is the os module in Python used for in file handling?\n",
        "-> It helps with file and folder tasks like checking paths, deleting files, and more.\n",
        "\n",
        "- What are the challenges associated with memory management in Python?\n",
        "-> Too much unused data, slow performance, and memory leaks.\n",
        "\n",
        "- How do you raise an exception manually in Python?\n",
        "-> Use the raise keyword: raise ValueError(\"Something went wrong\")\n",
        "\n",
        "- Why is it important to use multithreading in certain applications?\n",
        "-> It speeds up programs by doing multiple tasks at once — like downloading and processing together.\n"
      ],
      "metadata": {
        "id": "OwnWagRqfRVk"
      }
    },
    {
      "cell_type": "markdown",
      "source": [
        "**Practical Questions**"
      ],
      "metadata": {
        "id": "_NZMmTeNg5ZJ"
      }
    },
    {
      "cell_type": "markdown",
      "source": [
        "\n",
        "**1. How can you open a file for writing in Python and write a string to it**"
      ],
      "metadata": {
        "id": "wFGvT4MAg-YP"
      }
    },
    {
      "cell_type": "code",
      "source": [
        "with open(\"myfile.txt\", \"w\") as f:\n",
        "    f.write(\"Hello, this is my text.\")"
      ],
      "metadata": {
        "id": "EvRMyK8phkDU"
      },
      "execution_count": 1,
      "outputs": []
    },
    {
      "cell_type": "markdown",
      "source": [
        "\n",
        "**2. Write a Python program to read the contents of a file and print each line**"
      ],
      "metadata": {
        "id": "1lcU5yibh057"
      }
    },
    {
      "cell_type": "code",
      "source": [
        "with open(\"myfile.txt\", \"r\") as f:\n",
        "    for line in f:\n",
        "        print(line)"
      ],
      "metadata": {
        "colab": {
          "base_uri": "https://localhost:8080/"
        },
        "id": "O5lximfWh-nZ",
        "outputId": "7405b937-cb37-4555-ad05-0110128294e2"
      },
      "execution_count": 2,
      "outputs": [
        {
          "output_type": "stream",
          "name": "stdout",
          "text": [
            "Hello, this is my text.\n"
          ]
        }
      ]
    },
    {
      "cell_type": "markdown",
      "source": [
        "* **3. How would you handle a case where the file doesn't exist while trying to open it for reading?**\n",
        "***"
      ],
      "metadata": {
        "id": "UNTy6wFviK7u"
      }
    },
    {
      "cell_type": "code",
      "source": [
        "try:\n",
        "    with open(\"nofile.txt\", \"r\") as f:\n",
        "        print(f.read())\n",
        "except FileNotFoundError:\n",
        "    print(\"File not found.\")"
      ],
      "metadata": {
        "colab": {
          "base_uri": "https://localhost:8080/"
        },
        "id": "09kWF8kqiTxD",
        "outputId": "13416885-d047-4cc3-966f-fa6ffef43e49"
      },
      "execution_count": 3,
      "outputs": [
        {
          "output_type": "stream",
          "name": "stdout",
          "text": [
            "File not found.\n"
          ]
        }
      ]
    },
    {
      "cell_type": "markdown",
      "source": [
        "**4. Write a Python script that reads from one file and writes its content to another file**"
      ],
      "metadata": {
        "id": "TYTeA2ViieHN"
      }
    },
    {
      "cell_type": "code",
      "source": [
        "with open(\"source.txt\", \"r\") as src, open(\"target.txt\", \"w\") as tgt:\n",
        "    tgt.write(src.read())"
      ],
      "metadata": {
        "id": "W61bJTA0i2kB"
      },
      "execution_count": 4,
      "outputs": []
    },
    {
      "cell_type": "markdown",
      "source": [
        "**5. How would you catch and handle division by zero error in Python?**"
      ],
      "metadata": {
        "id": "AQkZXfAzjFNl"
      }
    },
    {
      "cell_type": "code",
      "source": [
        "try:\n",
        "    result = 10 / 0\n",
        "except ZeroDivisionError:\n",
        "    print(\"You can’t divide by zero!\")"
      ],
      "metadata": {
        "colab": {
          "base_uri": "https://localhost:8080/"
        },
        "id": "pTzcfXpIjNjo",
        "outputId": "7e43e3e3-ffa4-43f5-90d7-f5f1d1b1e030"
      },
      "execution_count": 5,
      "outputs": [
        {
          "output_type": "stream",
          "name": "stdout",
          "text": [
            "You can’t divide by zero!\n"
          ]
        }
      ]
    },
    {
      "cell_type": "markdown",
      "source": [
        "**6. Write a Python program that logs an error message to a log file when a division by zero exception occurs.**"
      ],
      "metadata": {
        "id": "RW7Y5w9mjRsP"
      }
    },
    {
      "cell_type": "code",
      "source": [
        "import logging\n",
        "\n",
        "logging.basicConfig(filename=\"log.txt\", level=logging.ERROR)\n",
        "\n",
        "try:\n",
        "    x = 1 / 0\n",
        "except ZeroDivisionError:\n",
        "    logging.error(\"Division by zero error\")"
      ],
      "metadata": {
        "colab": {
          "base_uri": "https://localhost:8080/"
        },
        "id": "4btuOQbyjbWN",
        "outputId": "4bf4b14c-b6de-4b6b-81dd-0b07a8e2dd81"
      },
      "execution_count": 6,
      "outputs": [
        {
          "output_type": "stream",
          "name": "stderr",
          "text": [
            "ERROR:root:Division by zero error\n"
          ]
        }
      ]
    },
    {
      "cell_type": "markdown",
      "source": [
        "**7. How do you log information at different levels (INFO, ERROR, WARNING) in Python using the logging module?**"
      ],
      "metadata": {
        "id": "KKy7tGhSjhMR"
      }
    },
    {
      "cell_type": "code",
      "source": [
        "import logging\n",
        "\n",
        "logging.basicConfig(filename=\"log.txt\", level=logging.DEBUG)\n",
        "\n",
        "logging.info(\"This is info\")\n",
        "logging.warning(\"This is a warning\")\n",
        "logging.error(\"This is an error\")"
      ],
      "metadata": {
        "colab": {
          "base_uri": "https://localhost:8080/"
        },
        "id": "WxYMuLTLjn-q",
        "outputId": "a6d4ca8f-d82e-43c2-bd4f-ecaef6a2aa57"
      },
      "execution_count": 7,
      "outputs": [
        {
          "output_type": "stream",
          "name": "stderr",
          "text": [
            "WARNING:root:This is a warning\n",
            "ERROR:root:This is an error\n"
          ]
        }
      ]
    },
    {
      "cell_type": "markdown",
      "source": [
        "**8. Write a program to handle a file opening error using exception handling**"
      ],
      "metadata": {
        "id": "x-Is4qkLjt_s"
      }
    },
    {
      "cell_type": "code",
      "source": [
        "try:\n",
        "    f = open(\"missing.txt\", \"r\")\n",
        "except FileNotFoundError:\n",
        "    print(\"File not found\")"
      ],
      "metadata": {
        "colab": {
          "base_uri": "https://localhost:8080/"
        },
        "id": "3_NyxufDj5or",
        "outputId": "0daa0666-cdfa-41f8-9ce9-0c42ce0ed02e"
      },
      "execution_count": 8,
      "outputs": [
        {
          "output_type": "stream",
          "name": "stdout",
          "text": [
            "File not found\n"
          ]
        }
      ]
    },
    {
      "cell_type": "markdown",
      "source": [
        "**9. How can you read a file line by line and store its content in a list in Python**"
      ],
      "metadata": {
        "id": "KPjvWyd-j-bd"
      }
    },
    {
      "cell_type": "code",
      "source": [
        "with open(\"data.txt\", \"r\") as f:\n",
        "    lines = f.readlines()\n",
        "print(lines)"
      ],
      "metadata": {
        "id": "r5oIFfUFkYDU"
      },
      "execution_count": 9,
      "outputs": []
    },
    {
      "cell_type": "markdown",
      "source": [
        "**10. How can you append data to an existing file in Python**"
      ],
      "metadata": {
        "id": "r2wmBkWxkjtV"
      }
    },
    {
      "cell_type": "code",
      "source": [
        "with open(\"data.txt\", \"a\") as f:\n",
        "    f.write(\"\\nNew line of text\")"
      ],
      "metadata": {
        "id": "vO0z2YGBk5LI"
      },
      "execution_count": null,
      "outputs": []
    },
    {
      "cell_type": "markdown",
      "source": [
        "**11. Write a Python program that uses a try-except block to handle an error when attempting to access a dictionary key that doesn't exist.**"
      ],
      "metadata": {
        "id": "cVhtB2M3k-oR"
      }
    },
    {
      "cell_type": "code",
      "source": [
        "my_dict = {\"name\": \"Digital\"}\n",
        "\n",
        "try:\n",
        "    print(my_dict[\"age\"])\n",
        "except KeyError:\n",
        "    print(\"Key not found\")"
      ],
      "metadata": {
        "colab": {
          "base_uri": "https://localhost:8080/"
        },
        "id": "LeBgXTlWlRxI",
        "outputId": "8589d1da-c748-4bc1-e987-48bb01378997"
      },
      "execution_count": 11,
      "outputs": [
        {
          "output_type": "stream",
          "name": "stdout",
          "text": [
            "Key not found\n"
          ]
        }
      ]
    },
    {
      "cell_type": "markdown",
      "source": [
        "**12. Write a program that demonstrates using multiple except blocks to handle different types of exceptions**"
      ],
      "metadata": {
        "id": "0KDRYZB7lXSw"
      }
    },
    {
      "cell_type": "code",
      "source": [
        "try:\n",
        "    print(10 / 0)\n",
        "except ZeroDivisionError:\n",
        "    print(\"Can't divide by zero\")\n",
        "except TypeError:\n",
        "    print(\"Wrong data type\")"
      ],
      "metadata": {
        "colab": {
          "base_uri": "https://localhost:8080/"
        },
        "id": "fYHiDp3Slp5i",
        "outputId": "8198f12b-3c74-4cae-b53a-85369935beac"
      },
      "execution_count": 10,
      "outputs": [
        {
          "output_type": "stream",
          "name": "stdout",
          "text": [
            "Can't divide by zero\n"
          ]
        }
      ]
    },
    {
      "cell_type": "markdown",
      "source": [
        "**13. How would you check if a file exists before attempting to read it in Python**"
      ],
      "metadata": {
        "id": "yxvOEyvElvjN"
      }
    },
    {
      "cell_type": "code",
      "source": [
        "import os\n",
        "\n",
        "if os.path.exists(\"data.txt\"):\n",
        "    with open(\"data.txt\", \"r\") as f:\n",
        "        print(f.read())\n",
        "else:\n",
        "    print(\"File does not exist\")"
      ],
      "metadata": {
        "colab": {
          "base_uri": "https://localhost:8080/"
        },
        "id": "4QO-PP8Rl27w",
        "outputId": "5b4ac11a-e1d6-4744-d937-f19618b460d0"
      },
      "execution_count": 12,
      "outputs": [
        {
          "output_type": "stream",
          "name": "stdout",
          "text": [
            "File does not exist\n"
          ]
        }
      ]
    },
    {
      "cell_type": "markdown",
      "source": [
        "**14. Write a program that uses the logging module to log both informational and error messages**"
      ],
      "metadata": {
        "id": "MsT96buVl6pV"
      }
    },
    {
      "cell_type": "code",
      "source": [
        "import logging\n",
        "\n",
        "logging.basicConfig(filename=\"log.txt\", level=logging.DEBUG)\n",
        "\n",
        "logging.info(\"Program started\")\n",
        "try:\n",
        "    x = 1 / 0\n",
        "except ZeroDivisionError:\n",
        "    logging.error(\"Division by zero error\")"
      ],
      "metadata": {
        "colab": {
          "base_uri": "https://localhost:8080/"
        },
        "id": "1rlTNU6imCSM",
        "outputId": "7fc22081-b89d-4672-b9b6-44e65e2775cc"
      },
      "execution_count": 13,
      "outputs": [
        {
          "output_type": "stream",
          "name": "stderr",
          "text": [
            "ERROR:root:Division by zero error\n"
          ]
        }
      ]
    },
    {
      "cell_type": "markdown",
      "source": [
        "**15. Write a Python program that prints the content of a file and handles the case when the file is empty**"
      ],
      "metadata": {
        "id": "Atg_cnD8mJ7f"
      }
    },
    {
      "cell_type": "code",
      "source": [
        "with open(\"data.txt\", \"r\") as f:\n",
        "    content = f.read()\n",
        "    if content:\n",
        "        print(content)\n",
        "    else:\n",
        "        print(\"File is empty\")"
      ],
      "metadata": {
        "id": "BAj5y17jmW1-"
      },
      "execution_count": 14,
      "outputs": []
    },
    {
      "cell_type": "markdown",
      "source": [
        "**16. Demonstrate how to use memory profiling to check the memory usage of a small program.**"
      ],
      "metadata": {
        "id": "J92TWQBnmt3I"
      }
    },
    {
      "cell_type": "code",
      "source": [
        "from memory_profiler import profile\n",
        "\n",
        "@profile\n",
        "def my_func():\n",
        "    nums = [i for i in range(10000)]\n",
        "    return nums\n",
        "\n",
        "my_func()"
      ],
      "metadata": {
        "id": "OzNAY2QUmxI8"
      },
      "execution_count": null,
      "outputs": []
    },
    {
      "cell_type": "markdown",
      "source": [
        "**17. Write a Python program to create and write a list of numbers to a file, one number per line.**"
      ],
      "metadata": {
        "id": "ViyyeWXrm1D3"
      }
    },
    {
      "cell_type": "code",
      "source": [
        "numbers = [1, 2, 3, 4, 5]\n",
        "\n",
        "with open(\"nums.txt\", \"w\") as f:\n",
        "    for num in numbers:\n",
        "        f.write(str(num) + \"\\n\")"
      ],
      "metadata": {
        "id": "W8XQejntnA6o"
      },
      "execution_count": null,
      "outputs": []
    },
    {
      "cell_type": "markdown",
      "source": [
        "**18. How would you implement a basic logging setup that logs to a file with rotation after 1MB?**"
      ],
      "metadata": {
        "id": "HLuGN3B3nFa1"
      }
    },
    {
      "cell_type": "code",
      "source": [
        "import logging\n",
        "from logging.handlers import RotatingFileHandler\n",
        "\n",
        "handler = RotatingFileHandler(\"app.log\", maxBytes=1000000, backupCount=3)\n",
        "logging.basicConfig(handlers=[handler], level=logging.INFO)\n",
        "\n",
        "logging.info(\"Logging setup with rotation.\")"
      ],
      "metadata": {
        "id": "iq3pfC0inOHt"
      },
      "execution_count": 18,
      "outputs": []
    },
    {
      "cell_type": "markdown",
      "source": [
        "**19. Write a program that handles both IndexError and KeyError using a try-except block.**"
      ],
      "metadata": {
        "id": "Z7WXCisdnScG"
      }
    },
    {
      "cell_type": "code",
      "source": [
        "my_list = [10, 20, 30]\n",
        "my_dict = {\"name\": \"Digital\"}\n",
        "\n",
        "try:\n",
        "    print(my_list[5])        # This will raise IndexError\n",
        "    print(my_dict[\"age\"])    # This will raise KeyError\n",
        "except IndexError:\n",
        "    print(\"Oops! That list index doesn't exist.\")\n",
        "except KeyError:\n",
        "    print(\"Oops! That dictionary key doesn't exist.\")\n"
      ],
      "metadata": {
        "colab": {
          "base_uri": "https://localhost:8080/"
        },
        "id": "0jiVVeSznZIG",
        "outputId": "794ca421-890c-40e1-e7ea-5315e29525a5"
      },
      "execution_count": 15,
      "outputs": [
        {
          "output_type": "stream",
          "name": "stdout",
          "text": [
            "Oops! That list index doesn't exist.\n"
          ]
        }
      ]
    },
    {
      "cell_type": "markdown",
      "source": [
        "**20. Write a function to count the number of vowels in a string.**"
      ],
      "metadata": {
        "id": "szWEHXaIn_i-"
      }
    },
    {
      "cell_type": "code",
      "source": [
        "def count_vowels(text):\n",
        "    vowels = 'aeiouAEIOU'\n",
        "    return sum(1 for char in text if char in vowels)\n",
        "\n",
        "# Example\n",
        "print(count_vowels(\"Digital Learner\"))  # Output: 5"
      ],
      "metadata": {
        "colab": {
          "base_uri": "https://localhost:8080/"
        },
        "id": "X4XOFV6MoDKY",
        "outputId": "aaec17a0-9d06-4edc-aa74-7453ed21a18a"
      },
      "execution_count": 19,
      "outputs": [
        {
          "output_type": "stream",
          "name": "stdout",
          "text": [
            "6\n"
          ]
        }
      ]
    },
    {
      "cell_type": "markdown",
      "source": [
        "**21. Write a program to check if a given number is prime.**"
      ],
      "metadata": {
        "id": "AhyqXUkPoH-t"
      }
    },
    {
      "cell_type": "code",
      "source": [
        "def is_prime(num):\n",
        "    if num <= 1:\n",
        "        return False\n",
        "    for i in range(2, int(num ** 0.5) + 1):\n",
        "        if num % i == 0:\n",
        "            return False\n",
        "    return True\n",
        "\n",
        "# Example\n",
        "print(is_prime(13))  # Output: True"
      ],
      "metadata": {
        "colab": {
          "base_uri": "https://localhost:8080/"
        },
        "id": "R0fdHuAuoQJb",
        "outputId": "e1ffc401-aeb6-4949-9766-e12952826b3f"
      },
      "execution_count": 20,
      "outputs": [
        {
          "output_type": "stream",
          "name": "stdout",
          "text": [
            "True\n"
          ]
        }
      ]
    },
    {
      "cell_type": "markdown",
      "source": [
        "**22. Write a Python function that returns the factorial of a number.**"
      ],
      "metadata": {
        "id": "8WGEiC5coT27"
      }
    },
    {
      "cell_type": "code",
      "source": [
        "def factorial(n):\n",
        "    if n < 0:\n",
        "        return None  # Factorial is not defined for negative numbers\n",
        "    result = 1\n",
        "    for i in range(2, n + 1):\n",
        "        result *= i\n",
        "    return result\n",
        "\n",
        "# Example\n",
        "print(factorial(5))  # Output: 120"
      ],
      "metadata": {
        "colab": {
          "base_uri": "https://localhost:8080/"
        },
        "id": "z4ehYcGzobax",
        "outputId": "ed0deca1-2784-4754-f5e2-74182e725c6e"
      },
      "execution_count": 21,
      "outputs": [
        {
          "output_type": "stream",
          "name": "stdout",
          "text": [
            "120\n"
          ]
        }
      ]
    },
    {
      "cell_type": "markdown",
      "source": [
        "**23. Write a program to remove duplicates from a list.**"
      ],
      "metadata": {
        "id": "eO5Kpg23ogiQ"
      }
    },
    {
      "cell_type": "code",
      "source": [
        "def remove_duplicates(lst):\n",
        "    return list(set(lst))\n",
        "\n",
        "# Example\n",
        "print(remove_duplicates([1, 2, 2, 3, 4, 4]))  # Output: [1, 2, 3, 4]"
      ],
      "metadata": {
        "colab": {
          "base_uri": "https://localhost:8080/"
        },
        "id": "a85F8v17ooPn",
        "outputId": "9b6fe8d2-9e4a-4693-e59c-9cfac009402f"
      },
      "execution_count": 22,
      "outputs": [
        {
          "output_type": "stream",
          "name": "stdout",
          "text": [
            "[1, 2, 3, 4]\n"
          ]
        }
      ]
    },
    {
      "cell_type": "code",
      "source": [],
      "metadata": {
        "id": "BlfeVoYajJhs"
      },
      "execution_count": null,
      "outputs": []
    },
    {
      "cell_type": "code",
      "source": [],
      "metadata": {
        "id": "PcRjuW25izQd"
      },
      "execution_count": null,
      "outputs": []
    },
    {
      "cell_type": "code",
      "source": [],
      "metadata": {
        "id": "ttY7fMuhiwP7"
      },
      "execution_count": null,
      "outputs": []
    },
    {
      "cell_type": "code",
      "source": [],
      "metadata": {
        "id": "lZRAxI-Ziq6e"
      },
      "execution_count": null,
      "outputs": []
    },
    {
      "cell_type": "code",
      "source": [],
      "metadata": {
        "id": "AE8LiOQ9ioAh"
      },
      "execution_count": null,
      "outputs": []
    },
    {
      "cell_type": "code",
      "source": [],
      "metadata": {
        "id": "LhM-5o8lil-W"
      },
      "execution_count": null,
      "outputs": []
    },
    {
      "cell_type": "code",
      "source": [],
      "metadata": {
        "id": "jsuTISPtih1L"
      },
      "execution_count": null,
      "outputs": []
    },
    {
      "cell_type": "code",
      "source": [],
      "metadata": {
        "id": "SrHGgfPriQIQ"
      },
      "execution_count": null,
      "outputs": []
    },
    {
      "cell_type": "code",
      "source": [],
      "metadata": {
        "id": "JcD4n4sHhoHX"
      },
      "execution_count": null,
      "outputs": []
    },
    {
      "cell_type": "code",
      "source": [],
      "metadata": {
        "id": "3q2dXMWwhf5Z"
      },
      "execution_count": null,
      "outputs": []
    },
    {
      "cell_type": "code",
      "source": [],
      "metadata": {
        "id": "QUXas1R-g9Ag"
      },
      "execution_count": null,
      "outputs": []
    },
    {
      "cell_type": "code",
      "source": [],
      "metadata": {
        "id": "KibaaIpHgcL8"
      },
      "execution_count": null,
      "outputs": []
    }
  ]
}